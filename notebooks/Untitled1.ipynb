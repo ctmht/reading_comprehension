{
 "cells": [
  {
   "cell_type": "code",
   "execution_count": 1,
   "id": "199233a0-be23-4201-8800-86f87f5545a0",
   "metadata": {},
   "outputs": [
    {
     "name": "stderr",
     "output_type": "stream",
     "text": [
      "/home/kikis/Repos/reading_comprehension/.venv/lib/python3.12/site-packages/tqdm/auto.py:21: TqdmWarning: IProgress not found. Please update jupyter and ipywidgets. See https://ipywidgets.readthedocs.io/en/stable/user_install.html\n",
      "  from .autonotebook import tqdm as notebook_tqdm\n"
     ]
    },
    {
     "name": "stdout",
     "output_type": "stream",
     "text": [
      "Saved chunk 1/1 to ../data/original_data/data_chunk_0.parquet\n"
     ]
    }
   ],
   "source": [
    "# Import required libraries\n",
    "import os\n",
    "import pandas as pd\n",
    "from datasets import load_dataset\n",
    "\n",
    "class HuggingFaceDataLoader:\n",
    "    \"\"\"\n",
    "    A class for loading datasets from Hugging Face, chunking them, and exporting to Parquet format.\n",
    "\n",
    "    Attributes:\n",
    "        output_dir (str): The directory where output files will be saved.\n",
    "        raw_dataset: The loaded Hugging Face dataset.\n",
    "    \"\"\"\n",
    "\n",
    "    def __init__(self, output_dir: str):\n",
    "        \"\"\"\n",
    "        Initialize the HuggingFaceDataLoader with an output directory.\n",
    "\n",
    "        Args:\n",
    "            output_dir (str): The directory where output files will be saved.\n",
    "        \"\"\"\n",
    "        self.output_dir = output_dir\n",
    "        self.raw_dataset = None\n",
    "\n",
    "    def pull_and_chunk_dataset(self, dataset_link: str, split: str = \"train\", chunk_size: int = 500000):\n",
    "        \"\"\"\n",
    "        Pull a dataset from Hugging Face, split it into smaller chunks, and save to the output directory.\n",
    "\n",
    "        Args:\n",
    "            dataset_link (str): The dataset link for Hugging Face dataset.\n",
    "            split (str): The dataset split to download (e.g., 'train', 'test').\n",
    "            chunk_size (int): Number of rows per chunk. Adjust this size based on the file size limitations.\n",
    "\n",
    "        Raises:\n",
    "            Exception: If there's an error pulling or saving the dataset.\n",
    "        \"\"\"\n",
    "        try:\n",
    "            # Load the dataset from Hugging Face (with a specific split)\n",
    "            self.raw_dataset = load_dataset(dataset_link, split=split)\n",
    "\n",
    "            # Convert the dataset to a pandas DataFrame\n",
    "            df = self.raw_dataset.to_pandas()\n",
    "\n",
    "            # Calculate the number of chunks based on the desired chunk size\n",
    "            num_chunks = (len(df) // chunk_size) + 1\n",
    "\n",
    "            # Ensure the output directory exists\n",
    "            os.makedirs(self.output_dir, exist_ok=True)\n",
    "\n",
    "            # Split and save each chunk as a separate Parquet file\n",
    "            for i in range(num_chunks):\n",
    "                chunk_df = df[i * chunk_size: (i + 1) * chunk_size]\n",
    "                chunk_path = os.path.join(self.output_dir, f\"data_chunk_{i}.parquet\")\n",
    "                chunk_df.to_parquet(chunk_path)\n",
    "                print(f\"Saved chunk {i+1}/{num_chunks} to {chunk_path}\")\n",
    "\n",
    "        except Exception as e:\n",
    "            print(f\"Error pulling or saving the dataset: {e}\")\n",
    "            raise\n",
    "\n",
    "# Initialize HuggingFaceDataLoader with the output directory\n",
    "output_dir = \"../data/original_data/\"\n",
    "data_loader = HuggingFaceDataLoader(output_dir=output_dir)\n",
    "\n",
    "# Pull and chunk the dataset\n",
    "data_loader.pull_and_chunk_dataset(dataset_link=\"Nan-Do/code-search-net-python\", chunk_size=500000)\n"
   ]
  },
  {
   "cell_type": "code",
   "execution_count": null,
   "id": "5e7e3e37-fb5b-4137-87a4-df55f79a9a6e",
   "metadata": {},
   "outputs": [],
   "source": []
  }
 ],
 "metadata": {
  "kernelspec": {
   "display_name": "Python (Poetry: read)",
   "language": "python",
   "name": "read"
  },
  "language_info": {
   "codemirror_mode": {
    "name": "ipython",
    "version": 3
   },
   "file_extension": ".py",
   "mimetype": "text/x-python",
   "name": "python",
   "nbconvert_exporter": "python",
   "pygments_lexer": "ipython3",
   "version": "3.12.7"
  }
 },
 "nbformat": 4,
 "nbformat_minor": 5
}
