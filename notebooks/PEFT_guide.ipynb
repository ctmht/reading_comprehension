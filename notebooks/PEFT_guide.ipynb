{
 "cells": [
  {
   "cell_type": "markdown",
   "id": "bd978e65a6b2c859",
   "metadata": {
    "id": "bd978e65a6b2c859"
   },
   "source": [
    "# Parameter-Efficient Fine-Tuning (PEFT) Techniques for Large Language Models (LLMs)\n",
    "\n",
    "In this notebook, we will explore various techniques for fine-tuning large language models in a parameter-efficient way (PEFT). These methods allow us to adapt pre-trained language models to new tasks without updating all the parameters of the model, which is computationally expensive and requires a large amount of data.\n",
    "\n",
    "PEFT strategies are crucial in scenarios where computational resources are limited, or when working with large models like GPT, BERT, or T5. We'll discuss the following techniques:\n",
    "\n",
    "- **LoRA (Low-Rank Adaptation)**\n",
    "- **Prefix Tuning**\n",
    "\n",
    "Let's dive in!"
   ]
  },
  {
   "cell_type": "code",
   "execution_count": null,
   "id": "87b40f3b6ba08d96",
   "metadata": {
    "ExecuteTime": {
     "end_time": "2024-09-25T14:26:04.145205700Z",
     "start_time": "2024-09-25T14:25:59.415208200Z"
    },
    "id": "87b40f3b6ba08d96"
   },
   "outputs": [],
   "source": [
    "# Installing the necessary libraries\n",
    "!pip install -q transformers datasets\n",
    "# install peft from github\n",
    "!pip install -q git+https://github.com/huggingface/peft"
   ]
  },
  {
   "cell_type": "markdown",
   "id": "Xij0qPsIR_qe",
   "metadata": {
    "id": "Xij0qPsIR_qe"
   },
   "source": [
    "## Low-Rank Adaptation (LoRA)\n",
    "LoRA is another parameter-efficient fine-tuning technique. It reduces the rank of the model's parameter updates to achieve efficient training with fewer resources. This technique works by approximating the parameter updates in a low-dimensional subspace, rather than full-rank matrices."
   ]
  },
  {
   "cell_type": "markdown",
   "id": "UUOsCE4Qq81d",
   "metadata": {
    "id": "UUOsCE4Qq81d"
   },
   "source": [
    "### Data loading and preprocessing\n",
    "\n",
    "In this example, we will use the samsum dataset, which consist of ~16k conversations. Each conversations comes wilt a summary. The objective is to fine-tune a model that is able to generate a summary when forwarded a diaglogue."
   ]
  },
  {
   "cell_type": "code",
   "execution_count": null,
   "id": "U3kneC-KrPbP",
   "metadata": {
    "id": "U3kneC-KrPbP"
   },
   "outputs": [],
   "source": [
    "from datasets import load_dataset\n",
    "\n",
    "# Load dataset from the hub\n",
    "dataset = load_dataset(\"samsum\", trust_remote_code=True)\n",
    "\n",
    "print(f\"Train dataset size: {len(dataset['train'])}\")\n",
    "print(f\"Test dataset size: {len(dataset['test'])}\")\n",
    "\n",
    "print(\"Sample example:\")\n",
    "print(dataset['train'][0])"
   ]
  },
  {
   "cell_type": "markdown",
   "id": "63G7rwGJsFn5",
   "metadata": {
    "id": "63G7rwGJsFn5"
   },
   "source": [
    "To train a model, the text should be converted to machine-readable units, which are the token IDs. This can be done by using a tokenizer.\n",
    "\n",
    "In this example, we'll use a small model from big science for demonstration"
   ]
  },
  {
   "cell_type": "code",
   "execution_count": null,
   "id": "ni5m762fsWhM",
   "metadata": {
    "id": "ni5m762fsWhM"
   },
   "outputs": [],
   "source": [
    "from transformers import AutoTokenizer, AutoModelForSeq2SeqLM\n",
    "\n",
    "model_id=\"bigscience/mt0-small\"\n",
    "\n",
    "# Load tokenizer\n",
    "tokenizer = AutoTokenizer.from_pretrained(model_id)"
   ]
  },
  {
   "cell_type": "code",
   "execution_count": null,
   "id": "RBxGVYiDsoqg",
   "metadata": {
    "id": "RBxGVYiDsoqg"
   },
   "outputs": [],
   "source": [
    "from datasets import concatenate_datasets\n",
    "import numpy as np\n",
    "\n",
    "# Here we tokenize the dialogues, which is the input of our model\n",
    "# The maximum total input sequence length after tokenization.\n",
    "# Sequences longer than this will be truncated, sequences shorter will be padded.\n",
    "tokenized_inputs = concatenate_datasets([dataset[\"train\"], dataset[\"test\"]]).map(lambda x: tokenizer(x[\"dialogue\"], truncation=True), batched=True, remove_columns=[\"dialogue\", \"summary\"])\n",
    "input_lenghts = [len(x) for x in tokenized_inputs[\"input_ids\"]]\n",
    "# take 85 percentile of max length for better utilization\n",
    "max_source_length = int(np.percentile(input_lenghts, 85))\n",
    "print(f\"Max source length: {max_source_length}\")\n",
    "\n",
    "# Here we tokenize the summary, which should be the output of our model\n",
    "# The maximum total sequence length for target text after tokenization.\n",
    "# Sequences longer than this will be truncated, sequences shorter will be padded.\"\n",
    "tokenized_targets = concatenate_datasets([dataset[\"train\"], dataset[\"test\"]]).map(lambda x: tokenizer(x[\"summary\"], truncation=True), batched=True, remove_columns=[\"dialogue\", \"summary\"])\n",
    "target_lenghts = [len(x) for x in tokenized_targets[\"input_ids\"]]\n",
    "# take 90 percentile of max length for better utilization\n",
    "max_target_length = int(np.percentile(target_lenghts, 90))\n",
    "print(f\"Max target length: {max_target_length}\")"
   ]
  },
  {
   "cell_type": "markdown",
   "id": "2mi3-WWmt5tU",
   "metadata": {
    "id": "2mi3-WWmt5tU"
   },
   "source": [
    "We now will preprocess the data. It's handy to save your preprocessed data to disk for time efficiency"
   ]
  },
  {
   "cell_type": "code",
   "execution_count": null,
   "id": "XuxQhhoJuEHZ",
   "metadata": {
    "id": "XuxQhhoJuEHZ"
   },
   "outputs": [],
   "source": [
    "def preprocess_function(sample,padding=\"max_length\"):\n",
    "    # add prefix to the input for t5\n",
    "    inputs = [\"summarize: \" + item for item in sample[\"dialogue\"]]\n",
    "\n",
    "    # tokenize inputs which was the dialogue\n",
    "    model_inputs = tokenizer(inputs, max_length=max_source_length, padding=padding, truncation=True)\n",
    "\n",
    "    # Tokenize targets with the `text_target` keyword argument, which was the summary\n",
    "    labels = tokenizer(text_target=sample[\"summary\"], max_length=max_target_length, padding=padding, truncation=True)\n",
    "\n",
    "    # If we are padding here, replace all tokenizer.pad_token_id in the labels by -100 when we want to ignore\n",
    "    # padding in the loss.\n",
    "    if padding == \"max_length\":\n",
    "        labels[\"input_ids\"] = [\n",
    "            [(l if l != tokenizer.pad_token_id else -100) for l in label] for label in labels[\"input_ids\"]\n",
    "        ]\n",
    "\n",
    "    model_inputs[\"labels\"] = labels[\"input_ids\"]\n",
    "    return model_inputs\n",
    "\n",
    "tokenized_dataset = dataset.map(preprocess_function, batched=True, remove_columns=[\"dialogue\", \"summary\", \"id\"])\n",
    "print(f\"Keys of tokenized dataset: {list(tokenized_dataset['train'].features)}\")\n",
    "\n",
    "# save datasets to disk for later easy loading\n",
    "tokenized_dataset[\"train\"].save_to_disk(\"data/train\")\n",
    "tokenized_dataset[\"test\"].save_to_disk(\"data/eval\")"
   ]
  },
  {
   "cell_type": "markdown",
   "id": "h3I2oQ3Wu1pK",
   "metadata": {
    "id": "h3I2oQ3Wu1pK"
   },
   "source": [
    "### Model loading and training\n",
    "\n",
    "Now that we have our dataset ready, we can start the fine-tuning process. First we need to load the base model."
   ]
  },
  {
   "cell_type": "code",
   "execution_count": null,
   "id": "1d012c507baadd74",
   "metadata": {
    "ExecuteTime": {
     "end_time": "2024-09-25T14:29:01.671206800Z",
     "start_time": "2024-09-25T14:29:01.663213200Z"
    },
    "id": "1d012c507baadd74"
   },
   "outputs": [],
   "source": [
    "import torch\n",
    "from transformers import AutoModelForSeq2SeqLM, AutoTokenizer\n",
    "from peft import get_peft_model, LoraConfig, TaskType\n",
    "\n",
    "# when you're using a big model, you can quantisize the model  to save memory by using its\n",
    "# bit configuration in the parameter setting, that is, 'load_in_4bit=True' or 'load_in_8bit=True'\n",
    "model = AutoModelForSeq2SeqLM.from_pretrained(model_id, device_map=\"auto\")"
   ]
  },
  {
   "cell_type": "markdown",
   "id": "KyHjJuRnv_az",
   "metadata": {
    "id": "KyHjJuRnv_az"
   },
   "source": [
    "When you want to fine-tune a model, you have to define your fine-tune configuration and wrap the model in a peft-object"
   ]
  },
  {
   "cell_type": "code",
   "execution_count": null,
   "id": "HewDWe5OwJh7",
   "metadata": {
    "id": "HewDWe5OwJh7"
   },
   "outputs": [],
   "source": [
    "from peft import LoraConfig, get_peft_model, prepare_model_for_kbit_training, TaskType\n",
    "\n",
    "# Define LoRA Config\n",
    "lora_config = LoraConfig(\n",
    " r=16,\n",
    " lora_alpha=32,\n",
    " target_modules=[\"q\", \"v\"],\n",
    " lora_dropout=0.05,\n",
    " bias=\"none\",\n",
    " task_type=TaskType.SEQ_2_SEQ_LM\n",
    ")\n",
    "# prepare int-8 model for training when you use a quatizied model\n",
    "# model = repare_model_for_kbit_training(model)\n",
    "\n",
    "# add LoRA adaptor\n",
    "model = get_peft_model(model, lora_config)\n",
    "model.print_trainable_parameters()\n"
   ]
  },
  {
   "cell_type": "markdown",
   "id": "HL732_zXySZ_",
   "metadata": {
    "id": "HL732_zXySZ_"
   },
   "source": [
    "Here you can see that only 22% of the parameters are being trained, which saves a lot of memory especially for bigger models!\n",
    "\n",
    "Now we create a DataCollator, that will take care of padding the data and create batches"
   ]
  },
  {
   "cell_type": "code",
   "execution_count": null,
   "id": "o9buuVpHy1A1",
   "metadata": {
    "id": "o9buuVpHy1A1"
   },
   "outputs": [],
   "source": [
    "from transformers import DataCollatorForSeq2Seq\n",
    "\n",
    "# we want to ignore tokenizer pad token in the loss\n",
    "label_pad_token_id = -100\n",
    "# Data collator\n",
    "data_collator = DataCollatorForSeq2Seq(\n",
    "    tokenizer,\n",
    "    model=model,\n",
    "    label_pad_token_id=label_pad_token_id,\n",
    "    pad_to_multiple_of=8\n",
    ")"
   ]
  },
  {
   "cell_type": "markdown",
   "id": "Aq3nuffLy4jg",
   "metadata": {
    "id": "Aq3nuffLy4jg"
   },
   "source": [
    "Lastly, we define the hyperparameters of our training process"
   ]
  },
  {
   "cell_type": "code",
   "execution_count": null,
   "id": "koMb3LDczCpP",
   "metadata": {
    "id": "koMb3LDczCpP"
   },
   "outputs": [],
   "source": [
    "from transformers import Seq2SeqTrainer, Seq2SeqTrainingArguments\n",
    "\n",
    "output_dir=\"tutorial\"\n",
    "\n",
    "# Define training args\n",
    "training_args = Seq2SeqTrainingArguments(\n",
    "    output_dir=output_dir,\n",
    "\tauto_find_batch_size=True,\n",
    "    learning_rate=1e-3, # higher learning rate\n",
    "    num_train_epochs=5,\n",
    "    logging_dir=f\"{output_dir}/logs\",\n",
    "    logging_strategy=\"steps\",\n",
    "    logging_steps=500,\n",
    "    save_strategy=\"no\",\n",
    "    report_to=\"tensorboard\",\n",
    ")\n",
    "\n",
    "# Create Trainer instance\n",
    "trainer = Seq2SeqTrainer(\n",
    "    model=model,\n",
    "    args=training_args,\n",
    "    data_collator=data_collator,\n",
    "    train_dataset=tokenized_dataset[\"train\"],\n",
    ")\n",
    "model.config.use_cache = False  # silence the warnings. Please re-enable for inference!"
   ]
  },
  {
   "cell_type": "markdown",
   "id": "Bx_izJHazNfY",
   "metadata": {
    "id": "Bx_izJHazNfY"
   },
   "source": [
    "Now we can finally train the model"
   ]
  },
  {
   "cell_type": "code",
   "execution_count": null,
   "id": "M-fGayL5zP6z",
   "metadata": {
    "id": "M-fGayL5zP6z"
   },
   "outputs": [],
   "source": [
    "trainer.train()"
   ]
  },
  {
   "cell_type": "markdown",
   "id": "AyPPSPXNzW2E",
   "metadata": {
    "id": "AyPPSPXNzW2E"
   },
   "source": [
    "### Model saving and evaluation\n",
    "\n",
    "Make sure you save your model and reload it to check whether everything works accordingly!"
   ]
  },
  {
   "cell_type": "code",
   "execution_count": null,
   "id": "6TxVRWmXzcOH",
   "metadata": {
    "id": "6TxVRWmXzcOH"
   },
   "outputs": [],
   "source": [
    "# Save our LoRA model & tokenizer results\n",
    "peft_model_id=\"path_to_trained_model\"\n",
    "trainer.model.save_pretrained(peft_model_id)\n",
    "tokenizer.save_pretrained(peft_model_id)\n",
    "# if you want to save the base model to call\n",
    "# trainer.model.base_model.save_pretrained(peft_model_id)"
   ]
  },
  {
   "cell_type": "code",
   "execution_count": null,
   "id": "_4myQDiDzwHJ",
   "metadata": {
    "id": "_4myQDiDzwHJ"
   },
   "outputs": [],
   "source": [
    "import torch\n",
    "from peft import PeftModel, PeftConfig\n",
    "from transformers import AutoModelForSeq2SeqLM, AutoTokenizer\n",
    "\n",
    "# Load peft config for pre-trained checkpoint etc.\n",
    "peft_model_id = \"path_to_trained_model\"\n",
    "config = PeftConfig.from_pretrained(peft_model_id)\n",
    "\n",
    "# load base LLM model and tokenizer\n",
    "model = AutoModelForSeq2SeqLM.from_pretrained(config.base_model_name_or_path, device_map={\"\":0})\n",
    "tokenizer = AutoTokenizer.from_pretrained(config.base_model_name_or_path)\n",
    "\n",
    "# Load the Lora model\n",
    "model = PeftModel.from_pretrained(model, peft_model_id, device_map={\"\":0})\n",
    "model.eval()\n",
    "\n",
    "print(\"Peft model loaded\")"
   ]
  },
  {
   "cell_type": "markdown",
   "id": "sp_Hw39jz_1x",
   "metadata": {
    "id": "sp_Hw39jz_1x"
   },
   "source": [
    "Try it with one example from the dataset to see if it works"
   ]
  },
  {
   "cell_type": "code",
   "execution_count": null,
   "id": "r7rfNdNs0CkH",
   "metadata": {
    "id": "r7rfNdNs0CkH"
   },
   "outputs": [],
   "source": [
    "# use the first sample of the test set\n",
    "sample = dataset['test'][0]\n",
    "\n",
    "input_ids = tokenizer(sample[\"dialogue\"], return_tensors=\"pt\", truncation=True).input_ids.cuda()\n",
    "# with torch.inference_mode():\n",
    "outputs = model.generate(input_ids=input_ids, max_new_tokens=10, do_sample=True, top_p=0.9)\n",
    "print(f\"input sentence: {sample['dialogue']}\\n{'---'* 20}\")\n",
    "\n",
    "print(f\"summary:\\n{tokenizer.batch_decode(outputs.detach().cpu().numpy(), skip_special_tokens=True)[0]}\")"
   ]
  },
  {
   "cell_type": "markdown",
   "id": "Kn9FQZTH0UjO",
   "metadata": {
    "id": "Kn9FQZTH0UjO"
   },
   "source": [
    "That's it for the LoRA fine-tuning!"
   ]
  },
  {
   "cell_type": "markdown",
   "id": "tOwd6jvB0eH5",
   "metadata": {
    "id": "tOwd6jvB0eH5"
   },
   "source": [
    "## Prefix Tuning\n",
    "\n",
    "Prefix tuning enables the model to learn a continuous task-specifc vector which are added to the beginning of the input, the prefix. In this method, only the prefix parameters are optimized, making it easy efficient for training by reducing memory and computational costs by the thousands!\n",
    "\n",
    "### Data loading and preprocessing\n",
    "\n",
    "We will use the financial phrasebank dataset, which contains sentiment labels for financial news sentences.\n"
   ]
  },
  {
   "cell_type": "code",
   "execution_count": null,
   "id": "HgraCODb6GBy",
   "metadata": {
    "id": "HgraCODb6GBy"
   },
   "outputs": [],
   "source": [
    "from datasets import load_dataset\n",
    "\n",
    "dataset = load_dataset(\"financial_phrasebank\", \"sentences_allagree\", trust_remote_code=True)\n",
    "dataset = dataset[\"train\"].train_test_split(test_size=0.1)\n",
    "dataset[\"validation\"] = dataset[\"test\"]\n",
    "del dataset[\"test\"]\n",
    "\n",
    "classes = dataset[\"train\"].features[\"label\"].names\n",
    "dataset = dataset.map(\n",
    "    lambda x: {\"text_label\": [classes[label] for label in x[\"label\"]]},\n",
    "    batched=True,\n",
    "    num_proc=1,\n",
    ")\n",
    "\n",
    "dataset[\"train\"][0]"
   ]
  },
  {
   "cell_type": "markdown",
   "id": "8O27ONuR6gy7",
   "metadata": {
    "id": "8O27ONuR6gy7"
   },
   "source": [
    "Again, we preprocess the data using the tokenizer. In this example, the t5-large model is used."
   ]
  },
  {
   "cell_type": "code",
   "execution_count": null,
   "id": "tg1OrK2Z6j8G",
   "metadata": {
    "id": "tg1OrK2Z6j8G"
   },
   "outputs": [],
   "source": [
    "from transformers import AutoTokenizer, AutoModelForSeq2SeqLM\n",
    "\n",
    "model_id=\"t5-large\"\n",
    "\n",
    "# Load tokenizer\n",
    "tokenizer = AutoTokenizer.from_pretrained(model_id)\n",
    "\n",
    "text_column = \"sentence\"\n",
    "label_column = \"text_label\"\n",
    "max_length = 128\n",
    "\n",
    "def preprocess_function(examples):\n",
    "    inputs = examples[text_column]\n",
    "    targets = examples[label_column]\n",
    "    model_inputs = tokenizer(inputs, max_length=max_length, padding=\"max_length\", truncation=True, return_tensors=\"pt\")\n",
    "    labels = tokenizer(targets, max_length=2, padding=\"max_length\", truncation=True, return_tensors=\"pt\")\n",
    "    labels = labels[\"input_ids\"]\n",
    "    labels[labels == tokenizer.pad_token_id] = -100\n",
    "    model_inputs[\"labels\"] = labels\n",
    "    return model_inputs\n",
    "\n",
    "processed_datasets = dataset.map(\n",
    "    preprocess_function,\n",
    "    batched=True,\n",
    "    num_proc=1,\n",
    "    remove_columns=dataset[\"train\"].column_names,\n",
    "    load_from_cache_file=False,\n",
    "    desc=\"Running tokenizer on dataset\",\n",
    ")"
   ]
  },
  {
   "cell_type": "markdown",
   "id": "m7bJ8wV167II",
   "metadata": {
    "id": "m7bJ8wV167II"
   },
   "source": [
    "Now that the preprocessing is done, we create a data loader object to forward to the model for training"
   ]
  },
  {
   "cell_type": "code",
   "execution_count": null,
   "id": "9ED6OI3E7BV5",
   "metadata": {
    "id": "9ED6OI3E7BV5"
   },
   "outputs": [],
   "source": [
    "from transformers import default_data_collator, get_linear_schedule_with_warmup\n",
    "from torch.utils.data import DataLoader\n",
    "\n",
    "batch_size = 8\n",
    "\n",
    "train_dataloader = DataLoader(\n",
    "    processed_datasets[\"train\"], shuffle=True, collate_fn=default_data_collator, batch_size=batch_size, pin_memory=True\n",
    ")\n",
    "eval_dataloader = DataLoader(processed_datasets[\"validation\"], collate_fn=default_data_collator, batch_size=batch_size, pin_memory=True)"
   ]
  },
  {
   "cell_type": "markdown",
   "id": "NAH3y3Ot7Qxf",
   "metadata": {
    "id": "NAH3y3Ot7Qxf"
   },
   "source": [
    "### Model loading and training\n",
    "\n",
    "After preparing the data, we can load the model and start initializing the training configuration"
   ]
  },
  {
   "cell_type": "code",
   "execution_count": null,
   "id": "cLWQ5vdt15JD",
   "metadata": {
    "id": "cLWQ5vdt15JD"
   },
   "outputs": [],
   "source": [
    "from peft import get_peft_model, get_peft_model_state_dict, PrefixTuningConfig, TaskType\n",
    "from tqdm import tqdm\n",
    "import torch\n",
    "import os\n",
    "\n",
    "model_id=\"t5-large\"\n",
    "\n",
    "peft_config = PrefixTuningConfig(task_type=TaskType.SEQ_2_SEQ_LM, inference_mode=False, num_virtual_tokens=20)\n",
    "\n",
    "model = AutoModelForSeq2SeqLM.from_pretrained(model_id)\n",
    "model = get_peft_model(model, peft_config)\n",
    "model.print_trainable_parameters()"
   ]
  },
  {
   "cell_type": "markdown",
   "id": "pLm9vVYD4w0C",
   "metadata": {
    "id": "pLm9vVYD4w0C"
   },
   "source": [
    "Setup your optimizer and learning scheduler"
   ]
  },
  {
   "cell_type": "code",
   "execution_count": null,
   "id": "6OmTJLWW4mdY",
   "metadata": {
    "id": "6OmTJLWW4mdY"
   },
   "outputs": [],
   "source": [
    "lr = 1e-2\n",
    "num_epochs = 5\n",
    "\n",
    "optimizer = torch.optim.AdamW(model.parameters(), lr=lr)\n",
    "lr_scheduler = get_linear_schedule_with_warmup(\n",
    "    optimizer=optimizer,\n",
    "    num_warmup_steps=0,\n",
    "    num_training_steps=(len(train_dataloader) * num_epochs),\n",
    ")"
   ]
  },
  {
   "cell_type": "markdown",
   "id": "cYa05XYf41yB",
   "metadata": {
    "id": "cYa05XYf41yB"
   },
   "source": [
    "Make sure the model is set to the right device and start training the model"
   ]
  },
  {
   "cell_type": "code",
   "execution_count": null,
   "id": "cBhQ_UaG49nT",
   "metadata": {
    "id": "cBhQ_UaG49nT"
   },
   "outputs": [],
   "source": [
    "device = 'cuda' if torch.cuda.is_available() else 'cpu'\n",
    "\n",
    "model = model.to(device)\n",
    "\n",
    "for epoch in range(num_epochs):\n",
    "    model.train()\n",
    "    total_loss = 0\n",
    "    for step, batch in enumerate(tqdm(train_dataloader)):\n",
    "        batch = {k: v.to(device) for k, v in batch.items()}\n",
    "        outputs = model(**batch)\n",
    "        loss = outputs.loss\n",
    "        total_loss += loss.detach().float()\n",
    "        loss.backward()\n",
    "        optimizer.step()\n",
    "        lr_scheduler.step()\n",
    "        optimizer.zero_grad()\n",
    "\n",
    "    model.eval()\n",
    "    eval_loss = 0\n",
    "    eval_preds = []\n",
    "    for step, batch in enumerate(tqdm(eval_dataloader)):\n",
    "        batch = {k: v.to(device) for k, v in batch.items()}\n",
    "        with torch.no_grad():\n",
    "            outputs = model(**batch)\n",
    "        loss = outputs.loss\n",
    "        eval_loss += loss.detach().float()\n",
    "        eval_preds.extend(\n",
    "            tokenizer.batch_decode(torch.argmax(outputs.logits, -1).detach().cpu().numpy(), skip_special_tokens=True)\n",
    "        )\n",
    "\n",
    "    eval_epoch_loss = eval_loss / len(eval_dataloader)\n",
    "    eval_ppl = torch.exp(eval_epoch_loss)\n",
    "    train_epoch_loss = total_loss / len(train_dataloader)\n",
    "    train_ppl = torch.exp(train_epoch_loss)\n",
    "    print(f\"{epoch=}: {train_ppl=} {train_epoch_loss=} {eval_ppl=} {eval_epoch_loss=}\")"
   ]
  },
  {
   "cell_type": "markdown",
   "id": "t_FgeerqNmNM",
   "metadata": {
    "id": "t_FgeerqNmNM"
   },
   "source": [
    "After training the model, check how well it performs on the validation set."
   ]
  },
  {
   "cell_type": "code",
   "execution_count": null,
   "id": "jYmYxg1mNraa",
   "metadata": {
    "id": "jYmYxg1mNraa"
   },
   "outputs": [],
   "source": [
    "correct = 0\n",
    "total = 0\n",
    "for pred, true in zip(eval_preds, dataset[\"validation\"][\"text_label\"]):\n",
    "    if pred.strip() == true.strip():\n",
    "        correct += 1\n",
    "    total += 1\n",
    "accuracy = correct / total * 100\n",
    "print(f\"{accuracy=} % on the evaluation dataset\")\n",
    "print(f\"{eval_preds[:10]=}\")\n",
    "print(f\"{dataset['validation']['text_label'][:10]=}\")"
   ]
  },
  {
   "cell_type": "markdown",
   "id": "6ujlhpjuNxp3",
   "metadata": {
    "id": "6ujlhpjuNxp3"
   },
   "source": [
    "### Model saving and evaluation\n",
    "\n",
    "Be sure to again save your newly trained model and reload it to check if it works properly!\n",
    "\n",
    "You can either push it to the huggingface hub or save it locally."
   ]
  },
  {
   "cell_type": "code",
   "execution_count": null,
   "id": "BdBbD1MBOMgQ",
   "metadata": {
    "id": "BdBbD1MBOMgQ"
   },
   "outputs": [],
   "source": [
    "# pushing it to the huggingface hub\n",
    "from huggingface_hub import notebook_login\n",
    "\n",
    "notebook_login()\n",
    "\n",
    "peft_model_id = \"your-name/t5-large_PREFIX_TUNING_SEQ2SEQ\"\n",
    "model.push_to_hub(\"your-name/t5-large_PREFIX_TUNING_SEQ2SEQ\", use_auth_token=True)\n",
    "\n",
    "# after pushing it, you can check whether you can load the PEFT-model\n",
    "peft_model_id = \"your-name/t5-large_PREFIX_TUNING_SEQ2SEQ\"\n",
    "\n",
    "config = PeftConfig.from_pretrained(peft_model_id)\n",
    "peft_model = AutoModelForSeq2SeqLM.from_pretrained(config.base_model_name_or_path)\n",
    "peft_model = PeftModel.from_pretrained(model, peft_model_id)"
   ]
  },
  {
   "cell_type": "code",
   "execution_count": null,
   "id": "YtVpf5fAOtnY",
   "metadata": {
    "id": "YtVpf5fAOtnY"
   },
   "outputs": [],
   "source": [
    "# saving it locally\n",
    "\n",
    "# save the fine-tuned parametetrs from training\n",
    "model.save_pretrained(\"path_to_save_directory\")\n",
    "\n",
    "# load the base model, which in this case was t5-large\n",
    "base_model = = AutoModelForSeq2SeqLM.from_pretrained(model_id)\n",
    "\n",
    "# load the PEFT model from the saved weights in \"path_to_save_directory\"\n",
    "peft_model = PeftModel.from_pretrained(base_model, \"path_to_save_directory\")"
   ]
  },
  {
   "cell_type": "markdown",
   "id": "oWrgPWFaP2Al",
   "metadata": {
    "id": "oWrgPWFaP2Al"
   },
   "source": [
    "Check with an example whether the model works accordingly"
   ]
  },
  {
   "cell_type": "code",
   "execution_count": null,
   "id": "v5SSsL3yP6-V",
   "metadata": {
    "id": "v5SSsL3yP6-V"
   },
   "outputs": [],
   "source": [
    "# put the model in evaluation mode so the weights don't change\n",
    "peft_model.eval()\n",
    "\n",
    "inputs = tokenizer(\n",
    "    \"The Lithuanian beer market made up 14.41 million liters in January , a rise of 0.8 percent from the year-earlier figure , the Lithuanian Brewers ' Association reporting citing the results from its members .\",\n",
    "    return_tensors=\"pt\",\n",
    ")\n",
    "\n",
    "with torch.no_grad():\n",
    "    inputs = {k: v.to(device) for k, v in inputs.items()}\n",
    "    outputs = model.generate(input_ids=inputs[\"input_ids\"], max_new_tokens=10)\n",
    "    print(tokenizer.batch_decode(outputs.detach().cpu().numpy(), skip_special_tokens=True))"
   ]
  },
  {
   "cell_type": "markdown",
   "id": "552486e74dd58cdc",
   "metadata": {
    "id": "552486e74dd58cdc"
   },
   "source": [
    "## Conclusion\n",
    "\n",
    "In this notebook, we explored several PEFT techniques for fine-tuning large language models. By only modifying a small subset of the model's parameters, these techniques allow us to adapt pre-trained models to new tasks more efficiently, without requiring extensive computational resources or massive amounts of data.\n",
    "- **LoRA** reduces the rank of parameter updates, making training more efficient.\n",
    "- **Prefix Tuning**, optimzing only tthe prefix parameters as only a sequence of continuous task-specific vectors are attached to the beginning of the input\n",
    "\n",
    "These methods enable us to leverage the power of large models while minimizing the computational cost."
   ]
  },
  {
   "cell_type": "code",
   "execution_count": null,
   "id": "AqGpw-4fQqS5",
   "metadata": {
    "id": "AqGpw-4fQqS5"
   },
   "outputs": [],
   "source": []
  }
 ],
 "metadata": {
  "colab": {
   "provenance": []
  },
  "kernelspec": {
   "display_name": "Python 3 (ipykernel)",
   "language": "python",
   "name": "python3"
  },
  "language_info": {
   "codemirror_mode": {
    "name": "ipython",
    "version": 3
   },
   "file_extension": ".py",
   "mimetype": "text/x-python",
   "name": "python",
   "nbconvert_exporter": "python",
   "pygments_lexer": "ipython3",
   "version": "3.12.7"
  }
 },
 "nbformat": 4,
 "nbformat_minor": 5
}
