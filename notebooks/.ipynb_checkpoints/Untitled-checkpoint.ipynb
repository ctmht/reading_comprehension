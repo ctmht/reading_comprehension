{
 "cells": [
  {
   "cell_type": "code",
   "execution_count": 1,
   "id": "8becf076-67f4-47e4-9a12-ed178fd83c74",
   "metadata": {},
   "outputs": [
    {
     "ename": "ModuleNotFoundError",
     "evalue": "No module named 'datasets'",
     "output_type": "error",
     "traceback": [
      "\u001b[0;31m---------------------------------------------------------------------------\u001b[0m",
      "\u001b[0;31mModuleNotFoundError\u001b[0m                       Traceback (most recent call last)",
      "Cell \u001b[0;32mIn[1], line 2\u001b[0m\n\u001b[1;32m      1\u001b[0m \u001b[38;5;28;01mimport\u001b[39;00m \u001b[38;5;21;01mos\u001b[39;00m\n\u001b[0;32m----> 2\u001b[0m \u001b[38;5;28;01mfrom\u001b[39;00m \u001b[38;5;21;01mdatasets\u001b[39;00m \u001b[38;5;28;01mimport\u001b[39;00m load_dataset\n\u001b[1;32m      3\u001b[0m \u001b[38;5;28;01mimport\u001b[39;00m \u001b[38;5;21;01mpyarrow\u001b[39;00m\u001b[38;5;21;01m.\u001b[39;00m\u001b[38;5;21;01mparquet\u001b[39;00m \u001b[38;5;28;01mas\u001b[39;00m \u001b[38;5;21;01mpq\u001b[39;00m\n\u001b[1;32m      4\u001b[0m \u001b[38;5;28;01mfrom\u001b[39;00m \u001b[38;5;21;01mdatasets\u001b[39;00m \u001b[38;5;28;01mimport\u001b[39;00m concatenate_datasets\n",
      "\u001b[0;31mModuleNotFoundError\u001b[0m: No module named 'datasets'"
     ]
    }
   ],
   "source": [
    "import os\n",
    "from datasets import load_dataset\n",
    "import pyarrow.parquet as pq\n",
    "from datasets import concatenate_datasets\n",
    "\n",
    "# Define constant for output directory and file\n",
    "OUTPUT_DIR = \"data/\"\n",
    "OUTPUT_FILE = \"combined_data.parquet\"\n",
    "\n",
    "# Check if the output directory exists, if not, create it\n",
    "if not os.path.exists(OUTPUT_DIR):\n",
    "    os.makedirs(OUTPUT_DIR)\n",
    "    print(f\"Created directory: {OUTPUT_DIR}\")\n",
    "\n",
    "# Load the dataset\n",
    "ds = load_dataset(\"Nan-Do/code-search-net-python\")\n",
    "\n",
    "# Combine all splits into a single dataset\n",
    "combined_dataset = concatenate_datasets([dataset for split, dataset in ds.items()])\n",
    "\n",
    "# Save the combined dataset as a single Parquet file\n",
    "output_path = os.path.join(OUTPUT_DIR, OUTPUT_FILE)\n",
    "combined_dataset.to_parquet(output_path)\n",
    "\n",
    "print(f\"All data has been saved to a single Parquet file: {output_path}\")\n",
    "print(f\"Total number of rows: {len(combined_dataset)}\")"
   ]
  },
  {
   "cell_type": "code",
   "execution_count": null,
   "id": "3db6c483-4661-4732-9bdc-40bd32c0c035",
   "metadata": {},
   "outputs": [],
   "source": []
  }
 ],
 "metadata": {
  "kernelspec": {
   "display_name": "my_poetry_kernel",
   "language": "python",
   "name": "my_poetry_kernel"
  },
  "language_info": {
   "codemirror_mode": {
    "name": "ipython",
    "version": 3
   },
   "file_extension": ".py",
   "mimetype": "text/x-python",
   "name": "python",
   "nbconvert_exporter": "python",
   "pygments_lexer": "ipython3",
   "version": "3.12.6"
  }
 },
 "nbformat": 4,
 "nbformat_minor": 5
}
